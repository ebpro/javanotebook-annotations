{
 "cells": [
  {
   "cell_type": "markdown",
   "id": "f72a0b80-7ed1-4d3e-bbd9-217628066919",
   "metadata": {},
   "source": [
    "# Les annotations\n",
    "\n",
    "En java la annotations sont un moyen d'associer des meta-données  aux classes, méthodes, propriétés, paramètres, variables et ... aux annotations. \n",
    "\n",
    "Ces méta-données peuvent être utilisés lors d'une traitement du code source, lors de la compilation ou pendant l'exécution. Par exemple pour détecter ou ignorer des erreurs lors de la compilation, générer de la documentation, du code ou des fichiers. \n",
    "\n",
    "Il existe des annotations standards [Deprecated](https://docs.oracle.com/en/java/javase/17/docs/api/java.base/java/lang/Deprecated.html), [FunctionalInterface](https://docs.oracle.com/en/java/javase/17/docs/api/java.base/java/lang/FunctionalInterface.html), [Override](https://docs.oracle.com/en/java/javase/17/docs/api/java.base/java/lang/Override.html), [SuppressWarings](https://docs.oracle.com/en/java/javase/17/docs/api/java.base/java/lang/SuppressWarnings.html) et [SafeVarargs](https://docs.oracle.com/en/java/javase/17/docs/api/java.base/java/lang/SafeVarargs.html)"
   ]
  },
  {
   "cell_type": "markdown",
   "id": "19b3a73c-3fb3-499a-bd35-05a83c916473",
   "metadata": {},
   "source": [
    "## Définition d'une annotation\n",
    "Une annotation se déclare dans un fichier qui a le même nom comme une classe ou une interface"
   ]
  },
  {
   "cell_type": "code",
   "execution_count": 1,
   "id": "5e1c3631-2669-443e-80ee-1c2346f6b7ab",
   "metadata": {},
   "outputs": [],
   "source": [
    "public @interface MyAnnotation { }"
   ]
  },
  {
   "cell_type": "markdown",
   "id": "5c15ab64-0c59-44bb-96cf-552d1ba23dab",
   "metadata": {},
   "source": [
    "Elle peut alors être utilisée."
   ]
  },
  {
   "cell_type": "code",
   "execution_count": 2,
   "id": "2d138eb5-2d9a-49ad-9013-47287e694acc",
   "metadata": {},
   "outputs": [],
   "source": [
    "@MyAnnotation\n",
    "public class MyClass {\n",
    "    @MyAnnotation\n",
    "    private int x;\n",
    "    \n",
    "    @MyAnnotation\n",
    "    public void m(@MyAnnotation int y) {\n",
    "        @MyAnnotation\n",
    "        String m=\"test\";\n",
    "    }\n",
    "}"
   ]
  },
  {
   "cell_type": "markdown",
   "id": "b75b4fa0-9171-4ecc-83da-7790be7030eb",
   "metadata": {},
   "source": [
    "Si l'on y ajoute des méthodes leurs types (primitifs, référence vers la class Class, annotation, enumération ou un tableau des précédents) et leurs noms définissent respectibement des paramètres. Il est aussi possible de donner des valeur par défaut.  "
   ]
  },
  {
   "cell_type": "code",
   "execution_count": 3,
   "id": "178f4771-8fe5-4bfe-a2f7-c143ad3c0e9a",
   "metadata": {},
   "outputs": [],
   "source": [
    "public @interface MyAnnotation {\n",
    "    String message();\n",
    "    int size() default 10;\n",
    "}"
   ]
  },
  {
   "cell_type": "code",
   "execution_count": 4,
   "id": "d8442c50-b2c7-4eb8-bfe2-0842ca88990e",
   "metadata": {},
   "outputs": [],
   "source": [
    "@MyAnnotation(message=\"hello\")\n",
    "public class MyClass {\n",
    "}"
   ]
  },
  {
   "cell_type": "markdown",
   "id": "99fd8445-0539-442b-b41d-52050ce15abd",
   "metadata": {},
   "source": [
    "Si leur attribut obligatoire s'appelle value, il est possible d'omettre son nom lors de l'annotation."
   ]
  },
  {
   "cell_type": "code",
   "execution_count": 5,
   "id": "721f3ecf-ebcb-4368-8abe-8e1d942f2ab8",
   "metadata": {},
   "outputs": [],
   "source": [
    "public @interface MyAnnotation {\n",
    "    String value();\n",
    "    int size() default 10;\n",
    "}"
   ]
  },
  {
   "cell_type": "code",
   "execution_count": 6,
   "id": "c6a60f48-152f-4001-a0f0-feae94f939c0",
   "metadata": {},
   "outputs": [],
   "source": [
    "@MyAnnotation(\"hello\")\n",
    "public class MyClass {\n",
    "}"
   ]
  },
  {
   "cell_type": "markdown",
   "id": "8f0e0fcd-a635-48d8-9ea2-46fed7625bcf",
   "metadata": {},
   "source": [
    "Une déclaration d'annotation peut être annotée avec [Target](https://docs.oracle.com/en/java/javase/17/docs/api/java.base/java/lang/annotation/Target.html) pour contrôler ce qui peut être annoté :  ANNOTATION_TYPE, CONSTRUCTOR, FIELD, LOCAL_VARIABLE, METHOD, PACKAGE, MODULE, PARAMETER, TYPE, and TYPE_PARAMETER"
   ]
  },
  {
   "cell_type": "code",
   "execution_count": 7,
   "id": "d8d06557-201f-44b0-a5c8-d34ce04fab07",
   "metadata": {},
   "outputs": [],
   "source": [
    "import java.lang.annotation.Target;\n",
    "import java.lang.annotation.ElementType;\n",
    "@Target({ElementType.LOCAL_VARIABLE, ElementType.FIELD})\n",
    "public @interface MyAnnotation {\n",
    "    int value() default 0;\n",
    "}"
   ]
  },
  {
   "cell_type": "code",
   "execution_count": 8,
   "id": "8b902043-06f9-494b-b480-839791d2043e",
   "metadata": {},
   "outputs": [],
   "source": [
    "public class MyClass {    \n",
    "    @MyAnnotation\n",
    "    int x;\n",
    "    public void m() {@MyAnnotation int x;}\n",
    "}"
   ]
  },
  {
   "cell_type": "code",
   "execution_count": 9,
   "id": "988aaf41-bd07-4a10-b1f4-e0d0116537d4",
   "metadata": {},
   "outputs": [
    {
     "ename": "CompilationException",
     "evalue": "",
     "output_type": "error",
     "traceback": [
      "\u001b[1m\u001b[30m|   \u001b[1m\u001b[30m\u001b[0m\u001b[1m\u001b[30m\u001b[41m@MyAnnotation\u001b[0m\u001b[1m\u001b[30m\u001b[0m",
      "\u001b[1m\u001b[31mannotation interface not applicable to this kind of declaration\u001b[0m",
      ""
     ]
    }
   ],
   "source": [
    "@MyAnnotation\n",
    "public class MyClass {    \n",
    "    int x;\n",
    "}"
   ]
  },
  {
   "cell_type": "markdown",
   "id": "2e872008-30f0-4185-8383-75e2893e9054",
   "metadata": {},
   "source": [
    "Par défaut, une annotation ne peut pas être utilisée plusieurs fois. Il faut alors soit définir un wrapper (une annotations qui peut les contenir) "
   ]
  },
  {
   "cell_type": "code",
   "execution_count": 10,
   "id": "6c0ad46c-8906-4ba6-b5a5-8cfcde6c8af3",
   "metadata": {},
   "outputs": [],
   "source": [
    "@Target({ElementType.LOCAL_VARIABLE, ElementType.FIELD})\n",
    "public @interface MyAnnotations {\n",
    "    MyAnnotation[] value();\n",
    "}"
   ]
  },
  {
   "cell_type": "code",
   "execution_count": 11,
   "id": "2ea1813a-dba7-420b-8276-83803e05dc5f",
   "metadata": {},
   "outputs": [],
   "source": [
    "public class MyClass {    \n",
    "    @MyAnnotations({@MyAnnotation(1),@MyAnnotation(2)})\n",
    "    int x;\n",
    "}"
   ]
  },
  {
   "cell_type": "markdown",
   "id": "96d1217a-abf9-40e6-9063-b1b36922f7bd",
   "metadata": {},
   "source": [
    "ou les autoriser à être répétable avec @Repeatable pour éviter la déclaration explicite du tableau."
   ]
  },
  {
   "cell_type": "code",
   "execution_count": 12,
   "id": "d1c7945a-8a6d-4cf9-968f-b061e7ef1d61",
   "metadata": {},
   "outputs": [
    {
     "ename": "CompilationException",
     "evalue": "",
     "output_type": "error",
     "traceback": [
      "\u001b[1m\u001b[30m|   \u001b[1m\u001b[30m\u001b[0m",
      "\u001b[1m\u001b[30m|   \u001b[1m\u001b[30m\u001b[0m",
      "\u001b[1m\u001b[30m|   \u001b[1m\u001b[30m@Repeatable(MyAnnotations.class)\u001b[0m",
      "\u001b[1m\u001b[30m|   \u001b[1m\u001b[30m@Target({ElementType.LOCAL_VARIABLE, ElementType.FIELD})\u001b[0m",
      "\u001b[1m\u001b[30m|   \u001b[1m\u001b[30mpublic @interface MyAnnotation {\u001b[0m",
      "\u001b[1m\u001b[30m|   \u001b[1m\u001b[30m    int value() default 0;\u001b[0m",
      "\u001b[1m\u001b[30m|   \u001b[1m\u001b[30m}\u001b[0m",
      "\u001b[1m\u001b[31mUnresolved dependencies:\u001b[0m",
      "\u001b[1m\u001b[31m   - class Repeatable\u001b[0m"
     ]
    }
   ],
   "source": [
    "import java.lang.annotation.Target;\n",
    "import java.lang.annotation.ElementType;\n",
    "import java.lang.annotation.Repeatable;\n",
    "\n",
    "@Repeatable(MyAnnotations.class)\n",
    "@Target({ElementType.LOCAL_VARIABLE, ElementType.FIELD})\n",
    "public @interface MyAnnotation {\n",
    "    int value() default 0;\n",
    "}"
   ]
  },
  {
   "cell_type": "code",
   "execution_count": 13,
   "id": "a2aabe7b-8682-4cd7-9284-d2820ff636d7",
   "metadata": {},
   "outputs": [],
   "source": [
    "public class MyClass {    \n",
    "    @MyAnnotation(1)\n",
    "    @MyAnnotation(2)\n",
    "    int x;\n",
    "}"
   ]
  },
  {
   "cell_type": "markdown",
   "id": "57007312-f0a0-4e3b-884b-c2c0e81a0482",
   "metadata": {},
   "source": [
    "Il est aussi possible d'annoter un package dans le fichier package-info.java."
   ]
  },
  {
   "cell_type": "markdown",
   "id": "6be0a7fb-fb01-4f10-a4d8-d1695577f3e1",
   "metadata": {},
   "source": [
    "L'annotation Retention permet précision si l'annotation n'est accessible que pendant la compilation (SOURCE), si en plus elle est ajoutée au fichier .class (CLASS) ou si elle est accessible durant l'exécution (RUNTIME).\n",
    "\n",
    "Inherited permet d'indiquer que l'annotation d'un Type est associé à ses descendants et Documented qu'elle apparait dans la javadoc."
   ]
  },
  {
   "cell_type": "code",
   "execution_count": 14,
   "id": "9b263fe3-16ba-4530-9118-6bca9ab7f06b",
   "metadata": {},
   "outputs": [],
   "source": [
    "import java.lang.annotation.Documented;\n",
    "import java.lang.annotation.ElementType;\n",
    "import java.lang.annotation.Inherited;\n",
    "import java.lang.annotation.Retention;\n",
    "import java.lang.annotation.RetentionPolicy;\n",
    "import java.lang.annotation.Target;\n",
    "\n",
    "@Documented\n",
    "@Target(ElementType.METHOD)\n",
    "@Inherited\n",
    "@Retention(RetentionPolicy.RUNTIME)\n",
    "public @interface MyAnnotation {\n",
    "  public enum Status {IN_PROGRESS, DONE} \n",
    "  Status status() default MyAnnotation.Status.DONE;\n",
    "}"
   ]
  },
  {
   "cell_type": "code",
   "execution_count": 15,
   "id": "4ad1bbfa-8cdb-4e0b-aeed-0d234c2a2d39",
   "metadata": {},
   "outputs": [],
   "source": [
    "public class MyClass {    \n",
    "    @MyAnnotation\n",
    "    public void m1() {System.out.println(\"Hello1\");}\n",
    "    \n",
    "    public void m2() {System.out.println(\"Hello2\");}\n",
    "    \n",
    "    @MyAnnotation\n",
    "    public void m3() {System.out.println(\"Hello3\");}\n",
    "}"
   ]
  },
  {
   "cell_type": "markdown",
   "id": "438cd916-d53a-40ed-b4dd-2f0a26c5499b",
   "metadata": {},
   "source": [
    "Les annotations peuvent être utilisée lors de l'exécution par introspection à condition d'avoir la rétention adaptée. La class Class permet de représenter une classe et d'accéder à la représentation de ses constituants représentés chacun par une classe spécifique (Method, Field, Constructor, ...). Ensuite des actions peuvent être déclenchée de façon programmatique par exemple invoquer une méthode sur une instance, invoquer un constructeur, ...\n",
    "\n",
    "L'exemple ci-dessus affiche les méthodes de la classe précédent annotées avec @MyAnnotation."
   ]
  },
  {
   "cell_type": "code",
   "execution_count": 16,
   "id": "4173b808-4653-489f-8132-d93eb65946df",
   "metadata": {},
   "outputs": [
    {
     "name": "stdout",
     "output_type": "stream",
     "text": [
      "m1\n",
      "m3\n"
     ]
    }
   ],
   "source": [
    "import java.lang.reflect.Method;\n",
    "MyClass o = new MyClass();\n",
    "Arrays.stream(o.getClass().getDeclaredMethods())\n",
    "    .filter(m->m.getAnnotation(MyAnnotation.class)!=null)\n",
    "    .map(Method::getName)\n",
    "    .forEach(System.out::println);"
   ]
  },
  {
   "cell_type": "markdown",
   "id": "1d481845-ae0f-4416-81cd-f2dc6047b2d1",
   "metadata": {},
   "source": [
    "Il est aussi possible d'invoquer dynamiquement ces méthodes."
   ]
  },
  {
   "cell_type": "code",
   "execution_count": 17,
   "id": "0722e8b0-c920-4b63-b548-a39f0ca42f23",
   "metadata": {},
   "outputs": [
    {
     "name": "stdout",
     "output_type": "stream",
     "text": [
      "Hello1\n",
      "Hello3\n"
     ]
    }
   ],
   "source": [
    "import java.lang.reflect.Method;\n",
    "MyClass myObject = new MyClass();\n",
    "Arrays.stream(myObject.getClass().getDeclaredMethods())\n",
    "    .filter(m->m.getAnnotation(MyAnnotation.class)!=null)\n",
    "    .forEach(m->{\n",
    "        try {m.invoke(myObject);} \n",
    "        catch (Exception e) {}\n",
    "        });"
   ]
  },
  {
   "cell_type": "markdown",
   "id": "76cc3ec5-c2d3-41c5-8ef4-8ea9bcfb5e42",
   "metadata": {},
   "source": [
    "## Annotation processor\n"
   ]
  },
  {
   "cell_type": "code",
   "execution_count": null,
   "id": "acb16078-5798-4417-9e49-bc9b246fc193",
   "metadata": {},
   "outputs": [],
   "source": []
  }
 ],
 "metadata": {
  "kernelspec": {
   "display_name": "Java [conda env:root] *",
   "language": "java",
   "name": "conda-root-java"
  },
  "language_info": {
   "codemirror_mode": "java",
   "file_extension": ".jshell",
   "mimetype": "text/x-java-source",
   "name": "Java",
   "pygments_lexer": "java",
   "version": "19+36"
  }
 },
 "nbformat": 4,
 "nbformat_minor": 5
}
